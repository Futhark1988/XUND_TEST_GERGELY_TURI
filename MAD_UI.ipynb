{
 "cells": [
  {
   "cell_type": "code",
   "execution_count": null,
   "id": "d2a27c1f-7b5f-4fd8-b434-7c47c0cf3b68",
   "metadata": {},
   "outputs": [
    {
     "ename": "",
     "evalue": "",
     "output_type": "error",
     "traceback": [
      "\u001b[1;31mFailed to start the Kernel. \n",
      "\u001b[1;31mView Jupyter <a href='command:jupyter.viewOutput'>log</a> for further details."
     ]
    }
   ],
   "source": [
    "*** Settings ***\n",
    "Library   SeleniumLibrary\n",
    "Library   Collections\n",
    "Library   RequestsLibrary\n",
    "Library   String"
   ]
  },
  {
   "cell_type": "code",
   "execution_count": null,
   "id": "1c6e526e-eaa7-4955-822e-0fac86f6993f",
   "metadata": {},
   "outputs": [
    {
     "ename": "",
     "evalue": "",
     "output_type": "error",
     "traceback": [
      "\u001b[1;31mFailed to start the Kernel. \n",
      "\u001b[1;31mView Jupyter <a href='command:jupyter.viewOutput'>log</a> for further details."
     ]
    }
   ],
   "source": [
    "*** Variables ***\n",
    "${EMAIL_ADDRESS}                         user@xund.ai\n",
    "${PASSWORD}                              aaaa0000\n",
    "${OWN_EMAIL_ADDRESS}                     turi@xund.ai\n",
    "${OWN_PASSWORD}                          Futhark911@Partners\n",
    "${URL_USED_FOR_CURRENT_SESSION}          ${EMPTY}\n"
   ]
  },
  {
   "cell_type": "code",
   "execution_count": null,
   "id": "efc91955-f0aa-4007-8448-c79439867e75",
   "metadata": {},
   "outputs": [
    {
     "ename": "",
     "evalue": "",
     "output_type": "error",
     "traceback": [
      "\u001b[1;31mFailed to start the Kernel. \n",
      "\u001b[1;31mView Jupyter <a href='command:jupyter.viewOutput'>log</a> for further details."
     ]
    }
   ],
   "source": [
    "*** Variables ***\n",
    "${AGE}                                   Age\n",
    "${APP}                                   App\n",
    "${BODY_PARA_METERS}                      Body para- meters\n",
    "${BODY_PARTS}                            Body parts\n",
    "${CANCEL}                                Cancel\n",
    "${CASE_STUDIES}                          Case Studies\n",
    "${CHECKS}                                Checks\n",
    "${CODE}                                  Code\n",
    "${COMMENT}                               Comment\n",
    "${CONSTANTS}                             Constants\n",
    "${CONDITIONS}                            Conditions\n",
    "${CONDITIONS_LIST}                       Conditions List\n",
    "${CONTENT_DRAFT}                         Content draft\n",
    "${COUNTRY_SPECIFIC_SERVICES}             Country-specific services\n",
    "${CMS}                                   CMS\n",
    "${CMS_INTEGRITY}                         CMS Integrity\n",
    "${DATABASE}                              Database\n",
    "${DATE}                                  Date\n",
    "${DATABASE_EXPORTS_LIST}                 Database Exports List\n",
    "${DEUTSCH}                               Deutsch\n",
    "${DEUTSCH_FORMAL}                        Deutsch formal\n",
    "${DIAGNOSED_WITH}                        Diagnosed With\n",
    "${DISCO}                                 DISCO\n",
    "${DRAFT_ILLNESS_QUESTION}                Draft Illness Questions\n",
    "${DRAFT_SYMPTOMS}                        Draft Symptoms\n",
    "${DURATION}                              Duration\n",
    "${EMERGENCIES}                           Emergencies\n",
    "${EMERGENCY_LIST}                        Emergency list\n",
    "${ENGLISH}                               English\n",
    "${FILTER}                                Filter\n",
    "${FIRST_PALCE}                           First Place\n",
    "${FUNCTION}                              Function\n",
    "${GENDER}                                Gender\n",
    "${GET_ALL_RESULTS}                       Get All Results\n",
    "${HAS_ALL_THIEME}                        Has all Thieme\n",
    "${HAS_DESCRIPTION}                       Has Description\n",
    "${HAS_UMLS}                              Has UMLS\n",
    "${ICD10}                                 ICD10\n",
    "${ILLNESSES}                             Illnesses\n",
    "${ILLNESS_CHECK_ENABLED}                 Illness Check Enabled\n",
    "${ILLNESS_GROUPS}                        Illness Groups\n",
    "${ILLNESS_STATISTICS}                    Illness Statistics\n",
    "${ILLNESS_QUESTIONS}                     Illness Questions\n",
    "${IN_A_CATEGORY}                         In a category\n",
    "${IN_A_GROUP}                            In a group\n",
    "${JSON_BASED_TESTING}                    JSON-based Testing\n",
    "${LABELS}                                Labels\n",
    "${LAST_UPDATED}                          Last Updated\n",
    "${LAST_UPDATED2}                         Last updated\n",
    "${LOCAL_SERVICES}                        Local Services\n",
    "${LOCATION}                              Location\n",
    "${LOCKED}                                Locked\n",
    "${LOG_IN}                                Log In\n",
    "${LOG+IN}                                Login\n",
    "${LOG_OUT}                               Log Out\n",
    "${MEDICAL_DRAFT}                         Medical draft\n",
    "${MONITORING}                            Monitoring\n",
    "${NAME}                                  Name\n",
    "${NEW_CASE_STUDY}                        New Case Study\n",
    "${NEW_ILLNESS}                           New Illness\n",
    "${NEW_TRANSLATION}                       New Translation\n",
    "${NUMBER_OF_CONDITIONS}                  Number of conditions\n",
    "${NON}                                   None                  \n",
    "${NOT_LOCKED_SYMPTOMS}                   Not Locked Symptoms\n",
    "${NUMBER_OF_SYMPTOMS}                    Number of symptoms\n",
    "${OTHER}                                 Other\n",
    "${QUESTION}                              Question\n",
    "${QUICK_SOLUTIONS}                       Quick Solutions\n",
    "${RATINGS}                               Ratings\n",
    "${RELOAD_DATA}                           Reload Data\n",
    "${REQUEST_FAILED_500}                    Request failed with status code 500\n",
    "${RUN_ALL}                               Run All\n",
    "${SAVE}                                  Save\n",
    "${SCORE}                                 Score\n",
    "${SECOND_PLACE}                          Second Place\n",
    "${SELF_ADMINISTRATION}                   Self Administration\n",
    "${SHOW_ONLY_CONTENT_DRAFTS}              Show Only Content Drafts\n",
    "${SHOW_ONLY_LOCKED}                      Show Only Locked\n",
    "${SHOW_ONLY_MEDICAL_DRAFTS}              Show Only Medical Drafts\n",
    "${SHOW_ONLY_NOT_LOCKED}                  Show Only Not Locked\n",
    "${SPECIAL}                               Special\n",
    "${SPECIALIZATIONS}                       Specializations\n",
    "${SPECIALI_ZATIONS}                      Speciali- zations\n",
    "${STRENGTH}                              Strength\n",
    "${STRESS_TESTS}                          Stress Tests\n",
    "${SYMPTOMS}                              Symptoms\n",
    "${SYMP_TOMS}                             Symp- toms\n",
    "${SYMPTOM_CATEGORIES}                    Symptom Categories\n",
    "${SYMPTOM_NAME}                          Symptom name\n",
    "${SYMPTOMS_LIST}                         Symptoms List\n",
    "${SYMPTOM_STATISTICS}                    Symptom Statistics\n",
    "${TELEMEDICAL_CONSULTATION_ENABLED}      Telemedical Consultation Enabled\n",
    "${THIRD_PLACE}                           Third Place\n",
    "${TOTAL_ALL}                             Total All\n",
    "${TOTAL_ALL2}                            Total all\n",
    "${TOTAL_ORANGE}                          Total Orange\n",
    "${TOTAL_RED}                             Total Red\n",
    "${TRANSLATION_DELETED}                   Translation deleted!\n",
    "${TRANSLATION_INTEGRITY}                 Translation Integrity\n",
    "${TRANSLATIONS}                          Translations\n",
    "${TREATMENT_TYPE}                        Treatment Type\n",
    "${TYPE}                                  Type\n",
    "${VISIBLE_IN_MEDICAL_LIBRARY}            Visible In Medical Library\n",
    "\n",
    "@{DROPDOWN_SETTINGS}                     ${RELOAD_DATA}   ${LOG_OUT}\n",
    "@{SUBMENU_APP}                           ${CHECKS}   ${RATINGS}\n",
    "@{SUBMENU_CONDITIONS}                    ${CONDITIONS_LIST}   ${ILLNESS_STATISTICS}   ${ILLNESS_QUESTIONS}   ${ILLNESS_GROUPS}   ${DISCO}   ${SPECIALIZATIONS}   ${EMERGENCIES}  \n",
    "@{SUBMENU_DATABASE}                      ${CASE_STUDIES}   ${QUICK_SOLUTIONS}   ${LOCAL_SERVICES}   ${COUNTRY_SPECIFIC_SERVICES}   ${CONSTANTS}   ${MONITORING}   ${STRESS_TESTS}   ${JSON_BASED_TESTING}   ${DATABASE_EXPORTS_LIST}   ${CMS}   ${CMS_INTEGRITY}   ${TRANSLATION_INTEGRITY}\n",
    "@{SUBMENU_SYMPTOMS}                      ${SYMPTOMS_LIST}   ${SYMPTOM_STATISTICS}   ${SYMPTOM_CATEGORIES}\n",
    "@{SUBMENU_USER}                          ${SELF_ADMINISTRATION}   ${LOG_OUT}\n",
    "\n",
    "@{CASE_STUDIES_TABLE}                    ${DIAGNOSED_WITH}   ${LABELS}   ${GENDER}   ${AGE}   ${SPECIAL}\n",
    "@{ILLNESSES_TABLE}                       ${NAME}   ${TOTAL_RED}   ${TOTAL_ORANGE}   ${TOTAL_ALL}   ${LAST_UPDATED}\n",
    "@{ILLNESS_STATISTICS_TABLE}              ${NAME}   ${CONTENT_DRAFT}  ${MEDICAL_DRAFT}   ${LOCKED}   ${IN_A_GROUP}   ${IN_A_CATEGORY}   ${SYMP_TOMS}   ${DRAFT_SYMPTOMS}   ${NOT_LOCKED_SYMPTOMS}   ${ILLNESS_QUESTIONS}   ${DRAFT_ILLNESS_QUESTION}   ${BODY_PARA_METERS}   ${SPECIALI_ZATIONS}   ${QUICK_SOLUTIONS}   ${QUICK_SOLUTIONS}   ${HAS_ALL_THIEME}   ${HAS_UMLS}   ${ICD10}   ${TELEMEDICAL_CONSULTATION_ENABLED}   ${VISIBLE_IN_MEDICAL_LIBRARY}   ${ILLNESS_CHECK_ENABLED}   ${TREATMENT_TYPE}   ${CASE_STUDIES}   ${HAS_DESCRIPTION}   ${COMMENT}\n",
    "@{ILLNESS_SYMPTOM_TABLE}                 ${SYMPTOM_NAME}   ${BODY_PARTS}   ${DURATION}   ${STRENGTH}   ${TYPE}   ${LOCATION}   ${FUNCTION}   ${SCORE}\n",
    "@{ILLNESS_QUESTIONS_TABLE}               ${QUESTION}   ${NUMBER_OF_CONDITIONS}   ${LAST_UPDATED2}\n",
    "@{RESULTS_TABLE}                         ${FIRST_PALCE}   ${SECOND_PLACE}   ${THIRD_PLACE}   ${OTHER}   ${NON}   ${FILTER}   ${DATE}\n",
    "@{SYMPTOMS_LIST_TABLE}                   ${NAME}   ${TOTAL_RED}   ${TOTAL_ORANGE}   ${TOTAL_ALL2}   ${LAST_UPDATED2}\n",
    "@{SYMPTOM_CATEGORIES_TABLE}              ${NAME}   ${NUMBER_OF_SYMPTOMS}\n",
    "@{TRANSLATIONS_TABLE}                    ${CODE}   ${ENGLISH}   ${DEUTSCH}   ${DEUTSCH_FORMAL}"
   ]
  },
  {
   "cell_type": "code",
   "execution_count": null,
   "id": "64c391aa-41a8-453e-8dec-ef22d78ccb6a",
   "metadata": {},
   "outputs": [
    {
     "ename": "",
     "evalue": "",
     "output_type": "error",
     "traceback": [
      "\u001b[1;31mFailed to start the Kernel. \n",
      "\u001b[1;31mView Jupyter <a href='command:jupyter.viewOutput'>log</a> for further details."
     ]
    }
   ],
   "source": [
    "*** Variables ***\n",
    "${EXPANDED}                              true\n",
    "${NOT_EXPANDED}                          false\n",
    "\n",
    "${VISIBLE}                               true\n",
    "${NOT_VISIBLE}                           false\n",
    "\n",
    "${CHECKED}                               true\n",
    "${UNCHECKED}                             false\n",
    "\n",
    "${OPEN}                                  open\n",
    "${CLOSED}                                closed\n",
    "\n",
    "${BROAD}                                 broad\n",
    "${NARROW}                                narrow\n",
    "\n",
    "${ASCENDING}                             ascending\n",
    "${DESCENDING}                            descending\n",
    "${CANCEL_SORTING}                        None\n"
   ]
  },
  {
   "cell_type": "code",
   "execution_count": null,
   "id": "b7c3ea81-10eb-4191-b5ee-4e99cb10bf13",
   "metadata": {},
   "outputs": [
    {
     "ename": "",
     "evalue": "",
     "output_type": "error",
     "traceback": [
      "\u001b[1;31mFailed to start the Kernel. \n",
      "\u001b[1;31mView Jupyter <a href='command:jupyter.viewOutput'>log</a> for further details."
     ]
    }
   ],
   "source": [
    "*** Variables ***\n",
    "${EMAIL_FIELD}                           email_input\n",
    "${PASSWORD_FIELD}                        password_input\n",
    "${ICD_CODE_INPUT_FIELD}                  icd_code_input_field\n",
    "${ILLNESS_LIST_SEARCH_BAR}               illness_list_search_bar\n",
    "${SEARCH_BAR}                            search_bar\n",
    "${SYMPTOM_LIST_SEARCH_BAR}               symptom_list_search_bar\n",
    "${UMLS_CODE_INPUT_FIELD}                 umls_code_input_field\n",
    "\n",
    "${EDIT}                                  edit\n",
    "${DELETE}                                delete\n",
    "${PUBLICATIONS}                          snippets\n",
    "\n",
    "${ACCORDION}                             xpath://div[@class=\"ant-collapse ant-collapse-icon-position-start\"]\n",
    "${CASE_STUDY_BARCHART}                   xpath://*[@class=\"recharts-surface\"]\n",
    "${BUTTON_OPEN_ON_NEW_TAB}                css:button.ant-dropdown-trigger\n",
    "\n",
    "${NEW_TRANSLATION_POPUP}                 xpath://div[text() =\"New Translation - database\"]/../..\n",
    "${TABLE_OPEN_ON_NEW_TAB}                 xpath://main[@class=\"ant-layout-content\"]//div[@class=\"ant-table\"]\n",
    "${SIDE_MENU}                             xpath://aside[@id=\"mainSider\"]"
   ]
  },
  {
   "cell_type": "code",
   "execution_count": null,
   "id": "202328f1-e637-4574-a02f-df5592a98620",
   "metadata": {},
   "outputs": [
    {
     "ename": "",
     "evalue": "",
     "output_type": "error",
     "traceback": [
      "\u001b[1;31mFailed to start the Kernel. \n",
      "\u001b[1;31mView Jupyter <a href='command:jupyter.viewOutput'>log</a> for further details."
     ]
    }
   ],
   "source": [
    "*** Variables ***\n",
    "${APPSTORE_ICON}                         //*[@d=\"M464 144H160c-8.8 0-16 7.2-16 16v304c0 8.8 7.2 16 16 16h304c8.8 0 16-7.2 16-16V160c0-8.8-7.2-16-16-16zm-52 268H212V212h200v200zm452-268H560c-8.8 0-16 7.2-16 16v304c0 8.8 7.2 16 16 16h304c8.8 0 16-7.2 16-16V160c0-8.8-7.2-16-16-16zm-52 268H612V212h200v200zM464 544H160c-8.8 0-16 7.2-16 16v304c0 8.8 7.2 16 16 16h304c8.8 0 16-7.2 16-16V560c0-8.8-7.2-16-16-16zm-52 268H212V612h200v200zm452-268H560c-8.8 0-16 7.2-16 16v304c0 8.8 7.2 16 16 16h304c8.8 0 16-7.2 16-16V560c0-8.8-7.2-16-16-16zm-52 268H612V612h200v200z\"]/../../../../../../div\n",
    "${BIG_WHITE_PADLOCK_ICON}                //span[@style=\"color: red;\"]//*[@d=\"M832 464h-68V240c0-70.7-57.3-128-128-128H388c-70.7 0-128 57.3-128 128v224h-68c-17.7 0-32 14.3-32 32v384c0 17.7 14.3 32 32 32h640c17.7 0 32-14.3 32-32V496c0-17.7-14.3-32-32-32zM332 240c0-30.9 25.1-56 56-56h248c30.9 0 56 25.1 56 56v224H332V240zm460 600H232V536h560v304zM484 701v53c0 4.4 3.6 8 8 8h40c4.4 0 8-3.6 8-8v-53a48.01 48.01 0 10-56 0z\"]\n",
    "${BLUE_FLAG_ICON}                        //span[@style=\"margin-right: 8px; color: blue;\"]//*[@d=\"M880 305H624V192c0-17.7-14.3-32-32-32H184v-40c0-4.4-3.6-8-8-8h-56c-4.4 0-8 3.6-8 8v784c0 4.4 3.6 8 8 8h56c4.4 0 8-3.6 8-8V640h248v113c0 17.7 14.3 32 32 32h416c17.7 0 32-14.3 32-32V337c0-17.7-14.3-32-32-32z\"]\n",
    "${CIRCLED_CHECK_ICON}                    //*[@d=\"M512 64C264.6 64 64 264.6 64 512s200.6 448 448 448 448-200.6 448-448S759.4 64 512 64zm0 820c-205.4 0-372-166.6-372-372s166.6-372 372-372 372 166.6 372 372-166.6 372-372 372z\"]/../*[@d=\"M699 353h-46.9c-10.2 0-19.9 4.9-25.9 13.3L469 584.3l-71.2-98.8c-6-8.3-15.6-13.3-25.9-13.3H325c-6.5 0-10.3 7.4-6.5 12.7l124.6 172.8a31.8 31.8 0 0051.7 0l210.6-292c3.9-5.3.1-12.7-6.4-12.7z\"]/ancestor::span\n",
    "${CIRCLED_CROSS_ICON}                    //*[@d=\"M685.4 354.8c0-4.4-3.6-8-8-8l-66 .3L512 465.6l-99.3-118.4-66.1-.3c-4.4 0-8 3.5-8 8 0 1.9.7 3.7 1.9 5.2l130.1 155L340.5 670a8.32 8.32 0 00-1.9 5.2c0 4.4 3.6 8 8 8l66.1-.3L512 564.4l99.3 118.4 66 .3c4.4 0 8-3.5 8-8 0-1.9-.7-3.7-1.9-5.2L553.5 515l130.1-155c1.2-1.4 1.8-3.3 1.8-5.2z\"]/../*[@d=\"M512 65C264.6 65 64 265.6 64 513s200.6 448 448 448 448-200.6 448-448S759.4 65 512 65zm0 820c-205.4 0-372-166.6-372-372s166.6-372 372-372 372 166.6 372 372-166.6 372-372 372z\"]/ancestor::span\n",
    "${CIRCLED_EXCLAMATION_MARK}              //*[@d=\"M512 64C264.6 64 64 264.6 64 512s200.6 448 448 448 448-200.6 448-448S759.4 64 512 64zm0 820c-205.4 0-372-166.6-372-372s166.6-372 372-372 372 166.6 372 372-166.6 372-372 372z\"]/../*[@d=\"M464 688a48 48 0 1096 0 48 48 0 10-96 0zm24-112h48c4.4 0 8-3.6 8-8V296c0-4.4-3.6-8-8-8h-48c-4.4 0-8 3.6-8 8v272c0 4.4 3.6 8 8 8z\"]/ancestor::span\n",
    "${CLOSE_X}                               //*[@d=\"M563.8 512l262.5-312.9c4.4-5.2.7-13.1-6.1-13.1h-79.8c-4.7 0-9.2 2.1-12.3 5.7L511.6 449.8 295.1 191.7c-3-3.6-7.5-5.7-12.3-5.7H203c-6.8 0-10.5 7.9-6.1 13.1L459.4 512 196.9 824.9A7.95 7.95 0 00203 838h79.8c4.7 0 9.2-2.1 12.3-5.7l216.5-258.1 216.5 258.1c3 3.6 7.5 5.7 12.3 5.7h79.8c6.8 0 10.5-7.9 6.1-13.1L563.8 512z\"]/ancestor::span[1]\n",
    "${COGWHEEL_ICON}                         //*[@d=\"M924.8 625.7l-65.5-56c3.1-19 4.7-38.4 4.7-57.8s-1.6-38.8-4.7-57.8l65.5-56a32.03 32.03 0 009.3-35.2l-.9-2.6a443.74 443.74 0 00-79.7-137.9l-1.8-2.1a32.12 32.12 0 00-35.1-9.5l-81.3 28.9c-30-24.6-63.5-44-99.7-57.6l-15.7-85a32.05 32.05 0 00-25.8-25.7l-2.7-.5c-52.1-9.4-106.9-9.4-159 0l-2.7.5a32.05 32.05 0 00-25.8 25.7l-15.8 85.4a351.86 351.86 0 00-99 57.4l-81.9-29.1a32 32 0 00-35.1 9.5l-1.8 2.1a446.02 446.02 0 00-79.7 137.9l-.9 2.6c-4.5 12.5-.8 26.5 9.3 35.2l66.3 56.6c-3.1 18.8-4.6 38-4.6 57.1 0 19.2 1.5 38.4 4.6 57.1L99 625.5a32.03 32.03 0 00-9.3 35.2l.9 2.6c18.1 50.4 44.9 96.9 79.7 137.9l1.8 2.1a32.12 32.12 0 0035.1 9.5l81.9-29.1c29.8 24.5 63.1 43.9 99 57.4l15.8 85.4a32.05 32.05 0 0025.8 25.7l2.7.5a449.4 449.4 0 00159 0l2.7-.5a32.05 32.05 0 0025.8-25.7l15.7-85a350 350 0 0099.7-57.6l81.3 28.9a32 32 0 0035.1-9.5l1.8-2.1c34.8-41.1 61.6-87.5 79.7-137.9l.9-2.6c4.5-12.3.8-26.3-9.3-35zM788.3 465.9c2.5 15.1 3.8 30.6 3.8 46.1s-1.3 31-3.8 46.1l-6.6 40.1 74.7 63.9a370.03 370.03 0 01-42.6 73.6L721 702.8l-31.4 25.8c-23.9 19.6-50.5 35-79.3 45.8l-38.1 14.3-17.9 97a377.5 377.5 0 01-85 0l-17.9-97.2-37.8-14.5c-28.5-10.8-55-26.2-78.7-45.7l-31.4-25.9-93.4 33.2c-17-22.9-31.2-47.6-42.6-73.6l75.5-64.5-6.5-40c-2.4-14.9-3.7-30.3-3.7-45.5 0-15.3 1.2-30.6 3.7-45.5l6.5-40-75.5-64.5c11.3-26.1 25.6-50.7 42.6-73.6l93.4 33.2 31.4-25.9c23.7-19.5 50.2-34.9 78.7-45.7l37.9-14.3 17.9-97.2c28.1-3.2 56.8-3.2 85 0l17.9 97 38.1 14.3c28.7 10.8 55.4 26.2 79.3 45.8l31.4 25.8 92.8-32.9c17 22.9 31.2 47.6 42.6 73.6L781.8 426l6.5 39.9zM512 326c-97.2 0-176 78.8-176 176s78.8 176 176 176 176-78.8 176-176-78.8-176-176-176zm79.2 255.2A111.6 111.6 0 01512 614c-29.9 0-58-11.7-79.2-32.8A111.6 111.6 0 01400 502c0-29.9 11.7-58 32.8-79.2C454 401.6 482.1 390 512 390c29.9 0 58 11.6 79.2 32.8A111.6 111.6 0 01624 502c0 29.9-11.7 58-32.8 79.2z\"]/ancestor::span[1]\n",
    "${DATABASE_ICON}                         //*[@d=\"M832 64H192c-17.7 0-32 14.3-32 32v832c0 17.7 14.3 32 32 32h640c17.7 0 32-14.3 32-32V96c0-17.7-14.3-32-32-32zm-600 72h560v208H232V136zm560 480H232V408h560v208zm0 272H232V680h560v208zM304 240a40 40 0 1080 0 40 40 0 10-80 0zm0 272a40 40 0 1080 0 40 40 0 10-80 0zm0 272a40 40 0 1080 0 40 40 0 10-80 0z\"]/ancestor::span[1]\n",
    "${EXPERIMENT_ICON}                       //*[@d=\"M512 472a40 40 0 1080 0 40 40 0 10-80 0zm367 352.9L696.3 352V178H768v-68H256v68h71.7v174L145 824.9c-2.8 7.4-4.3 15.2-4.3 23.1 0 35.3 28.7 64 64 64h614.6c7.9 0 15.7-1.5 23.1-4.3 33-12.7 49.4-49.8 36.6-82.8zM395.7 364.7V180h232.6v184.7L719.2 600c-20.7-5.3-42.1-8-63.9-8-61.2 0-119.2 21.5-165.3 60a188.78 188.78 0 01-121.3 43.9c-32.7 0-64.1-8.3-91.8-23.7l118.8-307.5zM210.5 844l41.7-107.8c35.7 18.1 75.4 27.8 116.6 27.8 61.2 0 119.2-21.5 165.3-60 33.9-28.2 76.3-43.9 121.3-43.9 35 0 68.4 9.5 97.6 27.1L813.5 844h-603z\"]/ancestor::span[1]\n",
    "${PUBLICATIONS_ICON}                     //*[@d=\"M832 112H724V72c0-4.4-3.6-8-8-8h-56c-4.4 0-8 3.6-8 8v40H500V72c0-4.4-3.6-8-8-8h-56c-4.4 0-8 3.6-8 8v40H320c-17.7 0-32 14.3-32 32v120h-96c-17.7 0-32 14.3-32 32v632c0 17.7 14.3 32 32 32h512c17.7 0 32-14.3 32-32v-96h96c17.7 0 32-14.3 32-32V144c0-17.7-14.3-32-32-32zM664 888H232V336h218v174c0 22.1 17.9 40 40 40h174v338zm0-402H514V336h.2L664 485.8v.2zm128 274h-56V456L544 264H360v-80h68v32c0 4.4 3.6 8 8 8h56c4.4 0 8-3.6 8-8v-32h152v32c0 4.4 3.6 8 8 8h56c4.4 0 8-3.6 8-8v-32h68v576z\"]/ancestor::span[1]\n",
    "${PEN_ICON}                              //*[@d=\"M257.7 752c2 0 4-.2 6-.5L431.9 722c2-.4 3.9-1.3 5.3-2.8l423.9-423.9a9.96 9.96 0 000-14.1L694.9 114.9c-1.9-1.9-4.4-2.9-7.1-2.9s-5.2 1-7.1 2.9L256.8 538.8c-1.5 1.5-2.4 3.3-2.8 5.3l-29.5 168.2a33.5 33.5 0 009.4 29.8c6.6 6.4 14.9 9.9 23.8 9.9zm67.4-174.4L687.8 215l73.3 73.3-362.7 362.6-88.9 15.7 15.6-89zM880 836H144c-17.7 0-32 14.3-32 32v36c0 4.4 3.6 8 8 8h784c4.4 0 8-3.6 8-8v-36c0-17.7-14.3-32-32-32z\"]/ancestor::span[1]\n",
    "${POWER_OFF_ICON}                        //*[@d=\"M705.6 124.9a8 8 0 00-11.6 7.2v64.2c0 5.5 2.9 10.6 7.5 13.6a352.2 352.2 0 0162.2 49.8c32.7 32.8 58.4 70.9 76.3 113.3a355 355 0 0127.9 138.7c0 48.1-9.4 94.8-27.9 138.7a355.92 355.92 0 01-76.3 113.3 353.06 353.06 0 01-113.2 76.4c-43.8 18.6-90.5 28-138.5 28s-94.7-9.4-138.5-28a353.06 353.06 0 01-113.2-76.4A355.92 355.92 0 01184 650.4a355 355 0 01-27.9-138.7c0-48.1 9.4-94.8 27.9-138.7 17.9-42.4 43.6-80.5 76.3-113.3 19-19 39.8-35.6 62.2-49.8 4.7-2.9 7.5-8.1 7.5-13.6V132c0-6-6.3-9.8-11.6-7.2C178.5 195.2 82 339.3 80 506.3 77.2 745.1 272.5 943.5 511.2 944c239 .5 432.8-193.3 432.8-432.4 0-169.2-97-315.7-238.4-386.7zM480 560h64c4.4 0 8-3.6 8-8V88c0-4.4-3.6-8-8-8h-64c-4.4 0-8 3.6-8 8v464c0 4.4 3.6 8 8 8z\"]/ancestor::span[1]\n",
    "${RED_PADLOCK_ICON}                      //span[@style=\"margin-right: 8px; color: red;\"]//*[@d=\"M832 464h-68V240c0-70.7-57.3-128-128-128H388c-70.7 0-128 57.3-128 128v224h-68c-17.7 0-32 14.3-32 32v384c0 17.7 14.3 32 32 32h640c17.7 0 32-14.3 32-32V496c0-17.7-14.3-32-32-32zM540 701v53c0 4.4-3.6 8-8 8h-40c-4.4 0-8-3.6-8-8v-53a48.01 48.01 0 1156 0zm152-237H332V240c0-30.9 25.1-56 56-56h248c30.9 0 56 25.1 56 56v224z\"]\n",
    "${RED_FLAG_ICON}                         //span[@style=\"margin-right: 8px; color: red;\"]//*[@d=\"M880 305H624V192c0-17.7-14.3-32-32-32H184v-40c0-4.4-3.6-8-8-8h-56c-4.4 0-8 3.6-8 8v784c0 4.4 3.6 8 8 8h56c4.4 0 8-3.6 8-8V640h248v113c0 17.7 14.3 32 32 32h416c17.7 0 32-14.3 32-32V337c0-17.7-14.3-32-32-32z\"]\n",
    "${SLIDERS_ICON}                          //*[@d=\"M320 224h-66v-56c0-4.4-3.6-8-8-8h-52c-4.4 0-8 3.6-8 8v56h-66c-4.4 0-8 3.6-8 8v560c0 4.4 3.6 8 8 8h66v56c0 4.4 3.6 8 8 8h52c4.4 0 8-3.6 8-8v-56h66c4.4 0 8-3.6 8-8V232c0-4.4-3.6-8-8-8zm-60 508h-80V292h80v440zm644-436h-66v-96c0-4.4-3.6-8-8-8h-52c-4.4 0-8 3.6-8 8v96h-66c-4.4 0-8 3.6-8 8v416c0 4.4 3.6 8 8 8h66v96c0 4.4 3.6 8 8 8h52c4.4 0 8-3.6 8-8v-96h66c4.4 0 8-3.6 8-8V304c0-4.4-3.6-8-8-8zm-60 364h-80V364h80v296zM612 404h-66V232c0-4.4-3.6-8-8-8h-52c-4.4 0-8 3.6-8 8v172h-66c-4.4 0-8 3.6-8 8v200c0 4.4 3.6 8 8 8h66v172c0 4.4 3.6 8 8 8h52c4.4 0 8-3.6 8-8V620h66c4.4 0 8-3.6 8-8V412c0-4.4-3.6-8-8-8zm-60 145a3 3 0 01-3 3h-74a3 3 0 01-3-3v-74a3 3 0 013-3h74a3 3 0 013 3v74z\"]/ancestor::span[1]\n",
    "${SYNC_ICON}                             //*[@d=\"M168 504.2c1-43.7 10-86.1 26.9-126 17.3-41 42.1-77.7 73.7-109.4S337 212.3 378 195c42.4-17.9 87.4-27 133.9-27s91.5 9.1 133.8 27A341.5 341.5 0 01755 268.8c9.9 9.9 19.2 20.4 27.8 31.4l-60.2 47a8 8 0 003 14.1l175.7 43c5 1.2 9.9-2.6 9.9-7.7l.8-180.9c0-6.7-7.7-10.5-12.9-6.3l-56.4 44.1C765.8 155.1 646.2 92 511.8 92 282.7 92 96.3 275.6 92 503.8a8 8 0 008 8.2h60c4.4 0 7.9-3.5 8-7.8zm756 7.8h-60c-4.4 0-7.9 3.5-8 7.8-1 43.7-10 86.1-26.9 126-17.3 41-42.1 77.8-73.7 109.4A342.45 342.45 0 01512.1 856a342.24 342.24 0 01-243.2-100.8c-9.9-9.9-19.2-20.4-27.8-31.4l60.2-47a8 8 0 00-3-14.1l-175.7-43c-5-1.2-9.9 2.6-9.9 7.7l-.7 181c0 6.7 7.7 10.5 12.9 6.3l56.4-44.1C258.2 868.9 377.8 932 512.2 932c229.2 0 415.5-183.7 419.8-411.8a8 8 0 00-8-8.2z\"]/ancestor::span[1]\n",
    "${TRASHCAN_ICON}                         //*[@d=\"M360 184h-8c4.4 0 8-3.6 8-8v8h304v-8c0 4.4 3.6 8 8 8h-8v72h72v-80c0-35.3-28.7-64-64-64H352c-35.3 0-64 28.7-64 64v80h72v-72zm504 72H160c-17.7 0-32 14.3-32 32v32c0 4.4 3.6 8 8 8h60.4l24.7 523c1.6 34.1 29.8 61 63.9 61h454c34.2 0 62.3-26.8 63.9-61l24.7-523H888c4.4 0 8-3.6 8-8v-32c0-17.7-14.3-32-32-32zM731.3 840H292.7l-24.2-512h487l-24.2 512z\"]/ancestor::span[1]\n",
    "${USER_ICON}                             //*[@d=\"M858.5 763.6a374 374 0 00-80.6-119.5 375.63 375.63 0 00-119.5-80.6c-.4-.2-.8-.3-1.2-.5C719.5 518 760 444.7 760 362c0-137-111-248-248-248S264 225 264 362c0 82.7 40.5 156 102.8 201.1-.4.2-.8.3-1.2.5-44.8 18.9-85 46-119.5 80.6a375.63 375.63 0 00-80.6 119.5A371.7 371.7 0 00136 901.8a8 8 0 008 8.2h60c4.4 0 7.9-3.5 8-7.8 2-77.2 33-149.5 87.8-204.3 56.7-56.7 132-87.9 212.2-87.9s155.5 31.2 212.2 87.9C779 752.7 810 825 812 902.2c.1 4.4 3.6 7.8 8 7.8h60a8 8 0 008-8.2c-1-47.8-10.9-94.3-29.5-138.2zM512 534c-45.9 0-89.1-17.9-121.6-50.4S340 407.9 340 362c0-45.9 17.9-89.1 50.4-121.6S466.1 190 512 190s89.1 17.9 121.6 50.4S684 316.1 684 362c0 45.9-17.9 89.1-50.4 121.6S557.9 534 512 534z\"]/ancestor::span[1]"
   ]
  },
  {
   "cell_type": "code",
   "execution_count": null,
   "id": "9ccadfe3-898c-49d4-8032-0d8f41dd3db2",
   "metadata": {},
   "outputs": [
    {
     "ename": "",
     "evalue": "",
     "output_type": "error",
     "traceback": [
      "\u001b[1;31mFailed to start the Kernel. \n",
      "\u001b[1;31mView Jupyter <a href='command:jupyter.viewOutput'>log</a> for further details."
     ]
    }
   ],
   "source": [
    "*** Variables ***\n",
    "${URL_OF_LOCAL_MEDICAL_ADMIN}            http://localhost:14000\n",
    "${URL_OF_DEV_MEDICAL_ADMIN}              https://medicaladmin.development.xund.solutions\n",
    "\n",
    "${URL_OF_CASE_STUDIES}                   dashboard/db/caseStudy\n",
    "${URL_OF_CHECKS}                         dashboard/app/checks\n",
    "${URL_OF_CONSTANTS}                      dashboard/db/constants\n",
    "${URL_OF_CONDITIONS_LIST}                dashboard/conditions/illnesses\n",
    "${URL_OF_COUNTRY_SPECIFIC_SERVICES}      dashboard/db/country-services\n",
    "${URL_OF_CMS_INTEGRITY}                  dashboard/db/integrity\n",
    "${URL_OF_DATABASE_EXPORTS_LIST}          dashboard/db/dbExportsList\n",
    "${URL_OF_DISCO}                          dashboard/conditions/disco/illnesses\n",
    "${URL_OF_EMERGENCIES}                    dashboard/conditions/emergencies\n",
    "${URL_OF_ILLNESS_GROUPS}                 dashboard/conditions/illnessGroups\n",
    "${URL_OF_ILLNESS_STATISTICS}             dashboard/conditions/illnessStatistics\n",
    "${URL_OF_ILLNESS_QUESTIONS}              dashboard/conditions/illnessQuestions\n",
    "${URL_OF_JSON_BASED_TESTING}             dashboard/db/jsonBasedTests\n",
    "${URL_OF_LOCAL_SERVICES}                 dashboard/db/services\n",
    "${URL_OF_MONITORING}                     dashboard/db/monitor\n",
    "${URL_OF_QUICK_SOLUTIONS}                dashboard/db/quickSolutions\n",
    "${URL_OF_RATINGS}                        dashboard/app/ratings\n",
    "${URL_OF_SPECIALIZATIONS}                dashboard/conditions/specializations\n",
    "${URL_OF_STRESS_TESTS}                   dashboard/db/stressTestConfigs\n",
    "${URL_OF_SYMPTOM_CATEGORIES}             dashboard/symptoms/symptomCategories\n",
    "${URL_OF_SYMPTOMS_LIST}                  dashboard/symptoms/symptomGroups\n",
    "${URL_OF_SYMPTOM_STATISTICS}             dashboard/symptoms/statistics\n",
    "${URL_OF_TRANSLATIONS}                   dashboard/app/translations\n",
    "${URL_OF_TRANSLATION_INTEGRITY}          dashboard/db/cms-integrity"
   ]
  },
  {
   "cell_type": "code",
   "execution_count": null,
   "id": "b5b80137-4db1-4a5c-8c26-7043c8b2a51b",
   "metadata": {},
   "outputs": [
    {
     "ename": "",
     "evalue": "",
     "output_type": "error",
     "traceback": [
      "\u001b[1;31mFailed to start the Kernel. \n",
      "\u001b[1;31mView Jupyter <a href='command:jupyter.viewOutput'>log</a> for further details."
     ]
    }
   ],
   "source": [
    "*** Keywords ***\n",
    "Get the XPATH of the table ${TABLE_NAME}\n",
    "    ${TABLE}=   Set variable   ((/\n",
    "    ${THEAD}=   Set variable   ${EMPTY}\n",
    "    ${TBODY}=   Set variable   /ancestor::tr[position()>0]/ancestor::table)[1])\n",
    "    FOR   ${COLUMN}   IN   @{TABLE_NAME}\n",
    "        ${THEAD}=   Catenate   SEPARATOR=    ${THEAD}   /ancestor::thead//*[text()=\"${COLUMN}\"]\n",
    "    END\n",
    "    [Return]   ${TABLE}${THEAD}${TBODY}\n",
    "\n",
    "\n",
    "\n",
    "\n",
    "\n",
    "\n",
    "\n",
    "Click on the button ${BUTTON}\n",
    "    Click element   xpath:(//button[text() = \"${BUTTON}\"]|//button/*[text() = \"${BUTTON}\"]|//*[@id=\"${BUTTON}\"])\n",
    "\n",
    "Click on the radio button ${RADIO_BUTTON}\n",
    "    Click element   xpath://*[@class=\"ant-radio-button\" or \"ant-radio-button ant-radio-button-checked\"]/..//*[text()=\"${RADIO_BUTTON}\"]\n",
    "\n",
    "Click on ${BUTTON} next to ${LABEL}\n",
    "    Click element    xpath://*[text() = \"${LABEL}\"]/..//button//*[@aria-label=\"${BUTTON}\"]\n",
    "\n",
    "Click on the button with the text ${BUTTON} in the dialog ${DIALOG_TITLE}\n",
    "    Click element    xpath://*[text() = \"${DIALOG_TITLE}\"]/ancestor::*//button[text() = \"${BUTTON}\"]\n",
    "\n",
    "Click on the ${ICON} in the narrow sidebar\n",
    "    Click element    ${ICON}\n",
    "\n",
    "Click on the ${SUBMENU_ITEM} under ${SIDEBAR_MENU} in the ${NARROW_OR_BROAD} sidebar  \n",
    "    IF   '${NARROW_OR_BROAD}'=='${NARROW}'\n",
    "        Mouse over   xpath://*[contains(text(), \"${SIDEBAR_MENU}\")]\n",
    "        Click element   xpath://ul//li//*[text() = \"${SUBMENU_ITEM}\"]\n",
    "    END\n",
    "    IF   '${NARROW_OR_BROAD}'=='${BROAD}'\n",
    "        Click element   xpath://ul//li//*[text() = \"${SUBMENU_ITEM}\"]\n",
    "    END\n",
    "\n",
    "Clear the input in the ${INPUT_FIELD} field\n",
    "    Clear Element Text   xpath://input[@type=\"${INPUT_FIELD}\"]\n",
    "    \n",
    "Clear the input in the ${INPUT_FIELD} field using the clear button\n",
    "    Click element   xpath://input[@type=\"search\"]/../span/span\n",
    "\n",
    "In the ${DROPDOWN} dropdown select ${LIST_ITEM}\n",
    "    Click element   xpath://*[@id=\"${DROPDOWN}\"]\n",
    "    Wait until element is visible   xpath://*[@class=\"ant-select-dropdown ${DROPDOWN} ant-select-dropdown-placement-topLeft \"]\n",
    "    Click element   xpath://*[@class=\"ant-select-dropdown ${DROPDOWN} ant-select-dropdown-placement-topLeft \"]//*[text()=\"${LIST_ITEM}\"]\n",
    "\n",
    "In the table ${TABLE_NAME} click on the entry for ${ILLNESS_NAME}\n",
    "    ${XPATH}=   Get the XPATH of the table ${TABLE_NAME}\n",
    "    Click element   ${XPATH}//*[text() = \"${ILLNESS_NAME}\"]\n",
    "    \n",
    "In the table ${TABLE_NAME} click on the button ${BUTTON} in the row number ${NUMBER}\n",
    "    FOR   ${COLUMN}   IN   @{TABLE_NAME}\n",
    "        Wait until element is visible       xpath://table//thead//*[text() = \"${COLUMN}\"]\n",
    "    END\n",
    "    Click element   xpath://table//tbody//tr[${NUMBER}]//button//*[@aria-label=\"${BUTTON}\"]\n",
    "\n",
    "In the table ${TABLE_NAME} click on the ${BUTTON} button at ${ENTRY}\n",
    "    ${XPATH}=   Get the XPATH of the table ${TABLE_NAME}\n",
    "    Click element   ${XPATH}/.//*[text()=\"${ENTRY}\"]/ancestor::tr//*[@aria-label=\"${BUTTON}\"]\n",
    "\n",
    "In the table ${TABLE_NAME} sort by ${COLUMN} in order ${ASCENDING_DESCENDING_CANCELSORTING}\n",
    "    ${XPATH}=   Get the XPATH of the table ${TABLE_NAME}\n",
    "    ${XPATH2}=   Set variable   (${XPATH}//tr[not(contains(@aria-hidden, \"true\"))][1]/td[1]//*[text()][1])[1]\n",
    "    ${COLUMN_INDEX}=   Get index from list   ${TABLE_NAME}   ${COLUMN}\n",
    "    ${COLUMN_INDEX+1}=   Set variable   ${${COLUMN_INDEX}+${1}}\n",
    "    ${CURRENTLY}=  Get element attribute   ${XPATH}//*[text()=\"${COLUMN}\"]/ancestor::th   aria-sort\n",
    "    @{LIST}=    Create list\n",
    "    WHILE   '${CURRENTLY}'!='${ASCENDING_DESCENDING_CANCELSORTING}'  \n",
    "        Click element   ${XPATH}//*[text()=\"${COLUMN}\"]\n",
    "        ${CURRENTLY}=  Get element attribute   ${XPATH}//*[text()=\"${COLUMN}\"]/ancestor::th   aria-sort\n",
    "    END    \n",
    "    FOR   ${ROW_INDEX}   IN RANGE   2   10\n",
    "         ${XPATH2}=   Set variable   (${XPATH}//tr[not(contains(@aria-hidden, \"true\"))][${ROW_INDEX}]/td[1]//*[text()][1])[1]\n",
    "         ${NUMBER}=   Get table cell   ${XPATH}   ${ROW_INDEX}   ${COLUMN_INDEX+1}\n",
    "         Append to list   ${LIST}    ${NUMBER}\n",
    "         Log   ${LIST}\n",
    "    END\n",
    "    IF   '${ASCENDING_DESCENDING_CANCELSORTING}'=='${ASCENDING}'\n",
    "        Sort list   ${LIST}\n",
    "        Log   ${LIST}\n",
    "    END\n",
    "    IF   '${ASCENDING_DESCENDING_CANCELSORTING}'=='${DESCENDING}'\n",
    "        Reverse list   ${LIST}\n",
    "        Log   ${LIST}\n",
    "    END\n",
    "    ${LIST_LENGTH}=   Get length   ${LIST}\n",
    "    FOR   ${ROW_INDEX}   IN RANGE   1   ${LIST_LENGTH} \n",
    "       Log   ${LIST}[${ROW_INDEX}]\n",
    "       ${ONE}=   Set variable   ${1}\n",
    "       Table cell should contain   ${XPATH}   ${${ROW_INDEX}+${ONE}}   ${COLUMN_INDEX+${ONE}}   ${LIST}[${ROW_INDEX}]\n",
    "    END\n",
    "\n",
    "In the table ${TABLE_NAME} the value of the cell in the row ${TABLE_ROW} and the column ${TABLE_COLUMN} should be ${VALUE}\n",
    "    ${XPATH}=    Get the XPATH of the table ${TABLE_NAME}\n",
    "    ${INDEX}=   Get Index From List   ${TABLE_NAME}   ${TABLE_COLUMN}\n",
    "    Element should contain   (${XPATH}//*[text()=\"${TABLE_ROW}\"]/ancestor::tr/td[${INDEX}+${1}])   ${VALUE}\n",
    "\n",
    "\n",
    "In the upper-right corner a notification with ${ICON} image the text ${TEXT}\n",
    "    Wait until element is visible   //*[@role=\"alert\"]${ICON}/../*[text()=\"${TEXT}\"]/ancestor::div${CLOSE_X}   30s\n",
    "\n",
    "Open the ${APP_NAME}\n",
    "    ${URL_USED_FOR_CURRENT_SESSION}=   Set Global Variable   ${APP_NAME}\n",
    "    Open browser    ${APP_NAME}   chrome\n",
    "\n",
    "Open the New Translation window using the edit button of the Name field\n",
    "    Click element   xpath://*[@id=\"name_edit_button\"]\n",
    "    \n",
    "Open the New Translation window using the edit button of the Alternative name field\n",
    "    Click element   xpath://*[@id=\"alternative_name_0_edit_button\"]   \n",
    "\n",
    "Set the checkbox with the label ${TEXT} to ${CHECKED_OR_UNCHECKED}\n",
    "    IF   '${CHECKED_OR_UNCHECKED}'=='${CHECKED}'\n",
    "        Select checkbox   xpath://*[ text() = \"${TEXT}\"]/..//input\n",
    "    END\n",
    "    IF   '${CHECKED_OR_UNCHECKED}'=='${UNCHECKED}'\n",
    "        Unselect checkbox   xpath://*[ text() = \"${TEXT}\"]/..//input\n",
    "    END\n",
    "    \n",
    "The dialog window with the title ${TITEL} should be ${OPEN_OR_CLOSED}\n",
    "    IF    '${OPEN_OR_CLOSED}'=='${OPEN}'\n",
    "        Wait until page contains element   xpath://*[text() = \"${TITEL}\"]/../..\n",
    "    END\n",
    "    IF    '${OPEN_OR_CLOSED}'=='${CLOSED}'\n",
    "        Wait until page does not contain element    xpath://*[text() = \"${TITEL}\"]/../..\n",
    "    END\n",
    "    \n",
    "The following options are listed under settings:\n",
    "    FOR   ${LISTITEM}   IN  @{DROPDOWN_SETTINGS}\n",
    "        ${ITEM}   Set Variable  xpath://ul[@class=\"ant-dropdown-menu ant-dropdown-menu-root ant-dropdown-menu-vertical ant-dropdown-menu-light\"]/li[@role=\"menuitem\"]/span[(text() = \"${LISTITEM}\")]\n",
    "        Element should be visible   ${ITEM}\n",
    "        Element should be enabled   ${ITEM}\n",
    "    END\n",
    "    \n",
    "The entry for ${ENTRY} is visible in the table\n",
    "    Wait until page contains element   xpath://table//*[text()=\"${ENTRY}\"]\n",
    "\n",
    "The field for ${FIELD_NAME} contains ${TEXT}\n",
    "    Page should contain element   xpath:\n",
    "\n",
    "The start page is displayed\n",
    "    Wait until element is visible       xpath://span[contains(text(), \"${LOG_IN}\")]\n",
    "    \n",
    "The Log In page is loaded\n",
    "    Wait until element is visible       xpath://*[@id=\"login_button\"]\n",
    "    Wait until element is visible       xpath://label[@for=\"email\"]\n",
    "    Wait until element is visible       xpath://input[@type=\"email\"]\n",
    "    Wait until element is visible       xpath://label[@for=\"password\"]\n",
    "    Wait until element is visible       xpath://input[@type=\"password\"]\n",
    "    \n",
    "The main page is loaded\n",
    "    The ${ACCORDION} is displayed\n",
    "    The ${TABLE_OPEN_ON_NEW_TAB} is displayed\n",
    "    The ${SIDE_MENU} is displayed\n",
    "\n",
    "The table ${TABLE_NAME} finished loading\n",
    "    ${XPATH}=   Get the XPATH of the table ${TABLE_NAME}\n",
    "    Wait until element is visible       (${XPATH})\n",
    "    Log   ${XPATH}\n",
    "    \n",
    "The title of the page is ${TEXT}\n",
    "    Wait until element is visible       xpath://h1[text()=\"${TEXT}\"]   60s\n",
    "    \n",
    "The URL of the page is ${URL}\n",
    "    Location Should Be    ${URL}\n",
    "    \n",
    "The ${UI_ELEMENT} is displayed\n",
    "    Wait until element is visible       ${UI_ELEMENT}  60s\n",
    "    \n",
    "The expandable sidebar menu with the text ${SIDEBAR_MENU} should be ${EXPANDED_OR_NOT_EXPANDED}    \n",
    "    ${CURRENTLY}=  Get element attribute   xpath://aside[@id=\"mainSider\"]//*[text() = \"${SIDEBAR_MENU}\"]/ancestor::li//div   aria-expanded\n",
    "    IF   '${CURRENTLY}'!='${EXPANDED_OR_NOT_EXPANDED}'  \n",
    "        Click element   xpath://aside[@id=\"mainSider\"]//*[text() = \"${SIDEBAR_MENU}\"]/ancestor::li//div\n",
    "    END    \n",
    "    \n",
    "The submenu items of the ${NARROW_OR_BROAD} sidebar menu with the text ${SIDEBAR_MENU} are ${VISIBLE_OR_NOT_VISIBLE}\n",
    "    IF   '${NARROW_OR_BROAD}'=='${NARROW}'\n",
    "        Mouse over   xpath://*[contains(text(), \"${SIDEBAR_MENU}\")]\n",
    "        Wait until page contains element   xpath://li[@class=\"ant-menu-submenu ant-menu-submenu-vertical ant-menu-submenu-open ant-menu-submenu-active\"]   10s\n",
    "        FOR   ${ITEM}   IN   @{SUBMENU_${SIDEBAR_MENU}}  \n",
    "        ${CURR_ITEM}=   Set Variable   xpath://*[contains(text(), \"${ITEM}\")] \n",
    "        IF   '${VISIBLE_OR_NOT_VISIBLE}'=='${VISIBLE}'\n",
    "           Element Should Be Visible   ${CURR_ITEM}\n",
    "        END\n",
    "        IF   '${VISIBLE_OR_NOT_VISIBLE}'=='${NOT_VISIBLE}'\n",
    "           Element Should Not Be Visible   ${CURR_ITEM}\n",
    "        END\n",
    "        END \n",
    "    END\n",
    "    IF   '${NARROW_OR_BROAD}'=='${BROAD}'\n",
    "        FOR   ${ITEM}   IN   @{SUBMENU_${SIDEBAR_MENU}}  \n",
    "        ${CURR_ITEM}=   Set Variable   xpath://aside[@id=\"mainSider\"]//*[contains(text(), \"${SIDEBAR_MENU}\")]/ancestor::ul//*[contains(text(), \"${ITEM}\")] \n",
    "        IF   '${VISIBLE_OR_NOT_VISIBLE}'=='${VISIBLE}'\n",
    "           Element Should Be Visible   ${CURR_ITEM}\n",
    "        END\n",
    "        IF   '${VISIBLE_OR_NOT_VISIBLE}'=='${NOT_VISIBLE}'\n",
    "           Element Should Not Be Visible   ${CURR_ITEM}\n",
    "        END\n",
    "        END \n",
    "    END\n",
    "    \n",
    "    \n",
    "Type in the translation ${TEXT} into the text area for ${LANGUAGE}\n",
    "    Input text   xpath://*[@title = \"${LANGUAGE}\"]/ancestor::*//textarea   ${TEXT}\n",
    "\n",
    "Type in the ${INPUT} into the ${INPUT_FIELD}\n",
    "    Input text   xpath://input[@id=\"${INPUT_FIELD}\"]   ${INPUT}\n",
    "    \n",
    "Type in the ${INPUT} into the ${INPUT_FIELD} field with the placeholder ${PLACEHOLDER}\n",
    "    Input text   xpath://input[contains(@id,\"${INPUT_FIELD}\") and @placeholder=\"${PLACEHOLDER}\"]   ${INPUT}\n",
    "        \n",
    "    "
   ]
  },
  {
   "cell_type": "code",
   "execution_count": null,
   "id": "5f80671c-3f76-47fc-9b69-b144ac4ead14",
   "metadata": {
    "jupyter": {
     "source_hidden": true
    },
    "tags": []
   },
   "outputs": [
    {
     "ename": "",
     "evalue": "",
     "output_type": "error",
     "traceback": [
      "\u001b[1;31mFailed to start the Kernel. \n",
      "\u001b[1;31mView Jupyter <a href='command:jupyter.viewOutput'>log</a> for further details."
     ]
    }
   ],
   "source": [
    "*** Test Case ***\n",
    "MAD-73 Open the conditions list\n",
    "    Click on the ${CONDITIONS_LIST} under ${CONDITIONS} in the ${NARROW} sidebar\n",
    "    The title of the page is ${CONDITIONS_LIST}\n",
    "    The URL of the page is ${URL_OF_DEV_MEDICAL_ADMIN}/${URL_OF_CONDITIONS_LIST}"
   ]
  },
  {
   "cell_type": "code",
   "execution_count": null,
   "id": "eff43eba-f11b-4e0a-9800-3413d6918d45",
   "metadata": {
    "jupyter": {
     "source_hidden": true
    },
    "tags": []
   },
   "outputs": [
    {
     "ename": "",
     "evalue": "",
     "output_type": "error",
     "traceback": [
      "\u001b[1;31mFailed to start the Kernel. \n",
      "\u001b[1;31mView Jupyter <a href='command:jupyter.viewOutput'>log</a> for further details."
     ]
    }
   ],
   "source": [
    "*** Test Case ***\n",
    "MAD-72 \"New illness\" button operation\n",
    "    Click on the button ${NEW_ILLNESS}\n",
    "    The title of the page is ${NEW_ILLNESS}\n",
    "    The URL of the page is ${URL_OF_DEV_MEDICAL_ADMIN}/${URL_OF_CONDITIONS_LIST}/new"
   ]
  },
  {
   "cell_type": "code",
   "execution_count": null,
   "id": "2b353e40-21da-4ab8-b123-50f3630bb198",
   "metadata": {
    "jupyter": {
     "source_hidden": true
    },
    "tags": []
   },
   "outputs": [
    {
     "ename": "",
     "evalue": "",
     "output_type": "error",
     "traceback": [
      "\u001b[1;31mFailed to start the Kernel. \n",
      "\u001b[1;31mView Jupyter <a href='command:jupyter.viewOutput'>log</a> for further details."
     ]
    }
   ],
   "source": [
    "*** Test Case ***\n",
    "MAD-121 Saving new illness without name\n",
    "    Open the New Translation window using the edit button of the Name field\n",
    "    Click on the button with the text Save in the dialog New Translation - database\n",
    "    The dialog window with the title New Translation - database should be open"
   ]
  },
  {
   "cell_type": "code",
   "execution_count": null,
   "id": "9573bed6-fabf-43ce-ab7a-1fae4bd9d4bb",
   "metadata": {
    "jupyter": {
     "source_hidden": true
    },
    "tags": []
   },
   "outputs": [
    {
     "ename": "",
     "evalue": "",
     "output_type": "error",
     "traceback": [
      "\u001b[1;31mFailed to start the Kernel. \n",
      "\u001b[1;31mView Jupyter <a href='command:jupyter.viewOutput'>log</a> for further details."
     ]
    }
   ],
   "source": [
    "*** Test Case ***\n",
    "MAD-111 Edit symptom button operation\n",
    "    Click on the ${SYMPTOMS_LIST} under ${SYMPTOMS} in the ${NARROW} sidebar\n",
    "    The title of the page is ${SYMPTOMS}\n",
    "    The URL of the page is ${URL_OF_DEV_MEDICAL_ADMIN}/${URL_OF_SYMPTOMS_LIST}\n",
    "    Type in the test into the ${SYMPTOMS_LIST_SEARCH_BAR} field with the placeholder Search\n",
    "    On the page ${SYMPTOMS} click on the ${EDIT} button at the entry test"
   ]
  },
  {
   "cell_type": "code",
   "execution_count": null,
   "id": "13c50392-2e06-49de-8fc2-c0d415a80c6a",
   "metadata": {
    "jupyter": {
     "source_hidden": true
    },
    "tags": []
   },
   "outputs": [
    {
     "ename": "",
     "evalue": "",
     "output_type": "error",
     "traceback": [
      "\u001b[1;31mFailed to start the Kernel. \n",
      "\u001b[1;31mView Jupyter <a href='command:jupyter.viewOutput'>log</a> for further details."
     ]
    }
   ],
   "source": [
    "*** Test Case ***\n",
    "MAD-104 Conditions list search field\n",
    "    Type in the Flatulences into the ${SYMPTOM_LIST_SEARCH_BAR} field with the placeholder Search\n",
    "    The entry for Flatulences is visible in the table"
   ]
  },
  {
   "cell_type": "code",
   "execution_count": null,
   "id": "5d88cf2d-64f7-4e74-bfe6-72e05aed36b2",
   "metadata": {
    "jupyter": {
     "source_hidden": true
    },
    "tags": []
   },
   "outputs": [
    {
     "ename": "",
     "evalue": "",
     "output_type": "error",
     "traceback": [
      "\u001b[1;31mFailed to start the Kernel. \n",
      "\u001b[1;31mView Jupyter <a href='command:jupyter.viewOutput'>log</a> for further details."
     ]
    }
   ],
   "source": [
    "*** Test Case ***\n",
    "MAD-129 Delete an added symptom-OK\n",
    "    Click on the ${CONDITIONS_LIST} under ${CONDITIONS} in the ${NARROW} sidebar\n",
    "    The title of the page is ${CONDITIONS_LIST}\n",
    "    The URL of the page is ${URL_OF_DEV_MEDICAL_ADMIN}/${URL_OF_CONDITIONS_LIST}\n",
    "    Type in the test2 into the ${ILLNESS_LIST_SEARCH_BAR} field with the placeholder Search\n",
    "    Wait until page contains element   xpath://*[text() = \"test2\"]   60s\n",
    "    On the page ${CONDITIONS_LIST} click on the entry for test2\n",
    "    On the page test2 click on the ${DELETE} button at the entry Pus development\n",
    "    The dialog window with the title Deleting Symptom Connection should be ${OPEN}\n",
    "    Click on the button Ok\n",
    "    The dialog window with the title Deleting Symptom Connection should be ${CLOSED}\n",
    "    Wait until page does not contain element   xpath://*[text() = \"Pus development\"]   60s"
   ]
  },
  {
   "cell_type": "code",
   "execution_count": null,
   "id": "4958c1ba-531d-443d-846c-f6d80b452d6c",
   "metadata": {
    "jupyter": {
     "source_hidden": true
    },
    "tags": []
   },
   "outputs": [
    {
     "ename": "",
     "evalue": "",
     "output_type": "error",
     "traceback": [
      "\u001b[1;31mFailed to start the Kernel. \n",
      "\u001b[1;31mView Jupyter <a href='command:jupyter.viewOutput'>log</a> for further details."
     ]
    }
   ],
   "source": [
    "*** Test Case ***\n",
    "MAD-126 Delete an added symptom-Cancel\n",
    "    Click on the ${CONDITIONS_LIST} under ${CONDITIONS} in the ${NARROW} sidebar\n",
    "    The title of the page is ${CONDITIONS_LIST}\n",
    "    The URL of the page is ${URL_OF_DEV_MEDICAL_ADMIN}/${URL_OF_CONDITIONS_LIST}\n",
    "    Type in the test2 into the ${ILLNESS_LIST_SEARCH_BAR} field with the placeholder Search\n",
    "    The entry for test2 is visible in the table\n",
    "    In the table @{ILLNESSES_TABLE} click on the ${EDIT} button at test2\n",
    "    The title of the page is test2\n",
    "    In the table @{ILLNESS_SYMPTOM_TABLE} click on the ${DELETE} button at Pus development\n",
    "    The dialog window with the title Deleting Symptom Connection should be ${OPEN}\n",
    "    Click on the button Cancel\n",
    "    The dialog window with the title Deleting Symptom Connection should be ${CLOSED}\n",
    "    Wait until page contains element   xpath://*[text() = \"Pus development\"]   60s"
   ]
  },
  {
   "cell_type": "code",
   "execution_count": null,
   "id": "561e1a37-c72c-449e-8e93-cda6b1a7003a",
   "metadata": {
    "jupyter": {
     "source_hidden": true
    },
    "tags": []
   },
   "outputs": [
    {
     "ename": "",
     "evalue": "",
     "output_type": "error",
     "traceback": [
      "\u001b[1;31mFailed to start the Kernel. \n",
      "\u001b[1;31mView Jupyter <a href='command:jupyter.viewOutput'>log</a> for further details."
     ]
    }
   ],
   "source": [
    "*** Test Case ***\n",
    "MAD-87 \"New Illness Question\" button operation\n",
    "    The title of the page is ${ILLNESS_QUESTIONS}\n",
    "    Click on the button New Illness Question\n",
    "    The title of the page is New Illness Question"
   ]
  },
  {
   "cell_type": "code",
   "execution_count": null,
   "id": "c3415417-a799-4450-b643-08d206b0d1c6",
   "metadata": {
    "jupyter": {
     "source_hidden": true
    },
    "tags": []
   },
   "outputs": [
    {
     "ename": "",
     "evalue": "",
     "output_type": "error",
     "traceback": [
      "\u001b[1;31mFailed to start the Kernel. \n",
      "\u001b[1;31mView Jupyter <a href='command:jupyter.viewOutput'>log</a> for further details."
     ]
    }
   ],
   "source": [
    "*** Test Case ***\n",
    "MAD-220 Duplicate an existing illness\n",
    "    Click on the ${CONDITIONS_LIST} under ${CONDITIONS} in the ${NARROW} sidebar\n",
    "    The title of the page is ${CONDITIONS_LIST}\n",
    "    The URL of the page is ${URL_OF_DEV_MEDICAL_ADMIN}/${URL_OF_CONDITIONS_LIST}\n",
    "    Type in the test2 into the ${ILLNESS_LIST_SEARCH_BAR} field with the placeholder Search\n",
    "    Wait until page contains element   xpath://*[text() = \"test2\"]   60s\n",
    "    In the table @{ILLNESS_SYMPTOM_TABLE} click on the entry for test2\n",
    "    The title of the page is test2\n",
    "    Click on the button Duplicate Illness\n",
    "    Switch Window    url:${URL_OF_DEV_MEDICAL_ADMIN}/${URL_OF_CONDITIONS_LIST}/new\n",
    "    The URL of the page is ${URL_OF_DEV_MEDICAL_ADMIN}/${URL_OF_CONDITIONS_LIST}/new"
   ]
  },
  {
   "cell_type": "code",
   "execution_count": null,
   "id": "a895564e-0e7a-40a8-81e5-d4205926f62f",
   "metadata": {
    "jupyter": {
     "source_hidden": true
    },
    "tags": []
   },
   "outputs": [
    {
     "ename": "",
     "evalue": "",
     "output_type": "error",
     "traceback": [
      "\u001b[1;31mFailed to start the Kernel. \n",
      "\u001b[1;31mView Jupyter <a href='command:jupyter.viewOutput'>log</a> for further details."
     ]
    }
   ],
   "source": [
    "*** Test Case ***\n",
    "MAD-225 Illness details-Add publications\n",
    "    Click on the ${CONDITIONS_LIST} under ${CONDITIONS} in the ${NARROW} sidebar\n",
    "    The title of the page is ${CONDITIONS_LIST}\n",
    "    The URL of the page is ${URL_OF_DEV_MEDICAL_ADMIN}/${URL_OF_CONDITIONS_LIST}\n",
    "    Type in the test2 into the ${ILLNESS_LIST_SEARCH_BAR} field with the placeholder Search\n",
    "    The entry for test2 is visible in the table\n",
    "    In the table @{ILLNESSES_TABLE} click on the ${EDIT} button at test2\n",
    "    The title of the page is test2\n",
    "    In the table @{ILLNESS_SYMPTOM_TABLE} click on the ${PUBLICATIONS} button at Pus development\n",
    "    The dialog window with the title Publications for: test2 - Pus development should be ${OPEN}\n",
    "    Type in the Flexor into the search field with the placeholder Search"
   ]
  },
  {
   "cell_type": "code",
   "execution_count": null,
   "id": "3f3ecfa6-318b-499b-99a6-d11b94485cdc",
   "metadata": {
    "jupyter": {
     "source_hidden": true
    },
    "tags": []
   },
   "outputs": [
    {
     "ename": "",
     "evalue": "",
     "output_type": "error",
     "traceback": [
      "\u001b[1;31mFailed to start the Kernel. \n",
      "\u001b[1;31mView Jupyter <a href='command:jupyter.viewOutput'>log</a> for further details."
     ]
    }
   ],
   "source": [
    "*** Test Case ***\n",
    "MAD-137 Open the Emergencies\n",
    "    Click on the ${EMERGENCIES} under ${CONDITIONS} in the ${NARROW} sidebar\n",
    "    The title of the page is ${EMERGENCY_LIST}"
   ]
  },
  {
   "cell_type": "code",
   "execution_count": null,
   "id": "6fb442f3-b283-410d-b0f9-09ceac96c3fe",
   "metadata": {
    "jupyter": {
     "source_hidden": true
    },
    "tags": []
   },
   "outputs": [
    {
     "ename": "",
     "evalue": "",
     "output_type": "error",
     "traceback": [
      "\u001b[1;31mFailed to start the Kernel. \n",
      "\u001b[1;31mView Jupyter <a href='command:jupyter.viewOutput'>log</a> for further details."
     ]
    }
   ],
   "source": [
    "*** Test Cases ***\n",
    "table is present\n",
    "    In the table @{ILLNESSES_TABLE} click on the ${EDIT} button at Abdominal sepsis"
   ]
  },
  {
   "cell_type": "code",
   "execution_count": null,
   "id": "1de27e2d-4c19-4cd8-a844-c46d8e43fe36",
   "metadata": {
    "jupyter": {
     "source_hidden": true
    },
    "tags": []
   },
   "outputs": [
    {
     "ename": "",
     "evalue": "",
     "output_type": "error",
     "traceback": [
      "\u001b[1;31mFailed to start the Kernel. \n",
      "\u001b[1;31mView Jupyter <a href='command:jupyter.viewOutput'>log</a> for further details."
     ]
    }
   ],
   "source": [
    "*** Test Cases ***\n",
    "table is present\n",
    "    In the table @{ILLNESS_SYMPTOM_TABLE} click on the ${EDIT} button at Breathing difficulties"
   ]
  },
  {
   "cell_type": "code",
   "execution_count": null,
   "id": "c8aca57a-57ca-4dd6-9311-ca03a2619999",
   "metadata": {
    "jupyter": {
     "source_hidden": true
    },
    "tags": []
   },
   "outputs": [
    {
     "ename": "",
     "evalue": "",
     "output_type": "error",
     "traceback": [
      "\u001b[1;31mFailed to start the Kernel. \n",
      "\u001b[1;31mView Jupyter <a href='command:jupyter.viewOutput'>log</a> for further details."
     ]
    }
   ],
   "source": [
    "*** Test Cases ***\n",
    "MAD-216 Open the case study run results\n",
    "    Click on the ${CASE_STUDIES} under ${DATABASE} in the ${narrow} sidebar\n",
    "    The title of the page is ${CASE_STUDIES}\n",
    "    The table @{CASE_STUDIES_TABLE} finished loading\n",
    "    Click on the button ${GET_ALL_RESULTS}\n",
    "    The table @{RESULTS_TABLE} finished loading\n",
    "    \n",
    "    "
   ]
  },
  {
   "cell_type": "code",
   "execution_count": null,
   "id": "8d94ac82-d236-4faf-941c-ef2e49df4c34",
   "metadata": {
    "jupyter": {
     "source_hidden": true
    },
    "tags": []
   },
   "outputs": [
    {
     "ename": "",
     "evalue": "",
     "output_type": "error",
     "traceback": [
      "\u001b[1;31mFailed to start the Kernel. \n",
      "\u001b[1;31mView Jupyter <a href='command:jupyter.viewOutput'>log</a> for further details."
     ]
    }
   ],
   "source": [
    "*** Test Cases ***\n",
    "MAD-216 Open the case study run results\n",
    "    In the table @{RESULTS_TABLE} click on the button arrow-right in the row number 4\n",
    "    Switch window   NEW\n",
    "    ${URL_OF_SELECTED_RUN}=   Get location\n",
    "    Should match regexp   ${URL_OF_SELECTED_RUN}   ${URL_OF_DEV_MEDICAL_ADMIN}/${URL_OF_CASE_STUDIES}/runs/*\n",
    "    Wait until page contains   Results\n",
    "    Wait until page contains   Case Study Results\n",
    "    Wait until page contains   False positive\n",
    "    Wait until page contains   Export as PDF\n",
    "    The ${CASE_STUDY_BARCHART} is displayed\n",
    "    The table @{RESULTS_TABLE} finished loading"
   ]
  },
  {
   "cell_type": "code",
   "execution_count": null,
   "id": "f390efbe-85ac-457e-9087-66454fe7ed49",
   "metadata": {
    "jupyter": {
     "source_hidden": true
    },
    "tags": []
   },
   "outputs": [
    {
     "ename": "",
     "evalue": "",
     "output_type": "error",
     "traceback": [
      "\u001b[1;31mFailed to start the Kernel. \n",
      "\u001b[1;31mView Jupyter <a href='command:jupyter.viewOutput'>log</a> for further details."
     ]
    }
   ],
   "source": [
    "*** Test Cases ***\n",
    "MAD-218 Create a new translation\n",
    "    The expandable sidebar menu with the text ${APP} should be ${EXPANDED}\n",
    "    Click on the ${TRANSLATIONS} under ${APP} in the ${broad} sidebar\n",
    "    The title of the page is ${TRANSLATIONS}\n",
    "    Wait until page contains   Visible Languages\n",
    "    Wait until page contains   Tick the languages to filter the unverified ones\n",
    "    Wait until page contains   English\n",
    "    Wait until page contains   Deutsch\n",
    "    Wait until page contains   Deutsch formal\n",
    "    Wait until page contains   Magyar\n",
    "    Wait until page contains   Pусский\n",
    "    Wait until page contains   Export XLIFF\n",
    "    Wait until page contains   iOS\n",
    "    Wait until page contains   Android\n",
    "    Wait until page contains   Chatbot\n",
    "    Wait until page contains   Database\n",
    "    Wait until page contains   Api Gateway\n",
    "    Wait until page contains   External\n",
    "    Wait until page contains   Internal\n",
    "    Wait until page contains   Import XLIFF\n",
    "    The ${SEARCH_BAR} is displayed\n",
    "    The table @{TRANSLATIONS_TABLE} finished loading\n",
    "    Click on the radio button iOS\n",
    "    Click on the button ${NEW_TRANSLATION}\n",
    "    The dialog window with the title New Translation - ios should be ${open}\n",
    "    Type in the translation test4 into the text area for ${ENGLISH}\n",
    "    Type in the translation test4 into the text area for ${DEUTSCH}\n",
    "    Type in the translation test4 into the text area for ${DEUTSCH_FORMAL}\n",
    "    Click on the button with the text ${SAVE} in the dialog New Translation - ios\n",
    "    The dialog window with the title New Translation - ios should be ${closed}"
   ]
  },
  {
   "cell_type": "code",
   "execution_count": null,
   "id": "172a1b55-055c-4bbd-a67a-bdba2bbc4123",
   "metadata": {
    "jupyter": {
     "source_hidden": true
    },
    "tags": []
   },
   "outputs": [
    {
     "ename": "",
     "evalue": "",
     "output_type": "error",
     "traceback": [
      "\u001b[1;31mFailed to start the Kernel. \n",
      "\u001b[1;31mView Jupyter <a href='command:jupyter.viewOutput'>log</a> for further details."
     ]
    }
   ],
   "source": [
    "*** Test Cases ***\n",
    "gg\n",
    "    Click on the button with the text Delete in the dialog 276591f0-0fdb-4266-b57a-a7aa613a1345 - ios\n",
    "    Click on the button with the text Yes in the dialog 276591f0-0fdb-4266-b57a-a7aa613a1345 - ios\n",
    "    Wait until page contains   //*[text()=\"Translation deleted!\"]"
   ]
  },
  {
   "cell_type": "code",
   "execution_count": null,
   "id": "bc98c356-2773-468d-8995-78eab92c5e28",
   "metadata": {
    "jupyter": {
     "source_hidden": true
    },
    "tags": []
   },
   "outputs": [
    {
     "ename": "",
     "evalue": "",
     "output_type": "error",
     "traceback": [
      "\u001b[1;31mFailed to start the Kernel. \n",
      "\u001b[1;31mView Jupyter <a href='command:jupyter.viewOutput'>log</a> for further details."
     ]
    }
   ],
   "source": [
    "*** Test Cases ***\n",
    "In the table the cell in the column and the row should contain\n",
    "    FOR   ${COLUMN}   IN   @{TRANSLATIONS_TABLE}\n",
    "        Wait until element is visible       xpath://thead//*[text() = \"${COLUMN}\"]\n",
    "    END\n",
    "    Page should contain element    xpath:(//table//*[text()=\"test4\"])[count(//table//thead//*[text()=\"Deutsch formal\"]/preceding-sibling::*)]"
   ]
  },
  {
   "cell_type": "code",
   "execution_count": null,
   "id": "ebca3e80-0a56-492c-8a54-d759ea92f54d",
   "metadata": {
    "jupyter": {
     "source_hidden": true
    },
    "tags": []
   },
   "outputs": [
    {
     "ename": "",
     "evalue": "",
     "output_type": "error",
     "traceback": [
      "\u001b[1;31mFailed to start the Kernel. \n",
      "\u001b[1;31mView Jupyter <a href='command:jupyter.viewOutput'>log</a> for further details."
     ]
    }
   ],
   "source": [
    "*** Test Cases ***\n",
    "fs\n",
    "  The expandable sidebar menu with the text ${DATABASE} should be ${NOT_EXPANDED}   "
   ]
  },
  {
   "cell_type": "code",
   "execution_count": null,
   "id": "7bb49c2a-a889-4b1f-a99f-c57386382f9b",
   "metadata": {},
   "outputs": [
    {
     "ename": "",
     "evalue": "",
     "output_type": "error",
     "traceback": [
      "\u001b[1;31mFailed to start the Kernel. \n",
      "\u001b[1;31mView Jupyter <a href='command:jupyter.viewOutput'>log</a> for further details."
     ]
    }
   ],
   "source": [
    "*** Test Case ***\n",
    "MAD-179 The user login to medical webadmin\n",
    "    Open the ${URL_OF_DEV_MEDICAL_ADMIN}\n",
    "    The start page is displayed\n",
    "    Click on the button ${LOG_IN}\n",
    "    The Log In page is loaded\n",
    "    Type in the ${OWN_EMAIL_ADDRESS} into the ${EMAIL_FIELD}\n",
    "    Type in the ${OWN_PASSWORD} into the ${PASSWORD_FIELD}\n",
    "    Click on the button ${LOG+IN}\n",
    "    The main page is loaded\n",
    "    "
   ]
  },
  {
   "cell_type": "code",
   "execution_count": null,
   "id": "3f2c701f-2238-4941-abb8-be38b38d21fe",
   "metadata": {},
   "outputs": [
    {
     "ename": "",
     "evalue": "",
     "output_type": "error",
     "traceback": [
      "\u001b[1;31mFailed to start the Kernel. \n",
      "\u001b[1;31mView Jupyter <a href='command:jupyter.viewOutput'>log</a> for further details."
     ]
    }
   ],
   "source": [
    "*** Test Cases ***\n",
    "In the table ${TABLE_NAME} sort by ${COLUMN} in order ${ASCENDING_DESCENDING_CANCELSORTING}\n",
    "    In the table ${SYMPTOMS_LIST_TABLE} sort by ${TOTAL_ALL2} in order ${DESCENDING}"
   ]
  },
  {
   "cell_type": "code",
   "execution_count": null,
   "id": "f76887bc-1b7b-4e4a-a6bd-04d3802bea73",
   "metadata": {},
   "outputs": [
    {
     "ename": "",
     "evalue": "",
     "output_type": "error",
     "traceback": [
      "\u001b[1;31mFailed to start the Kernel. \n",
      "\u001b[1;31mView Jupyter <a href='command:jupyter.viewOutput'>log</a> for further details."
     ]
    }
   ],
   "source": [
    "*** Test Cases ***\n",
    "jj\n",
    "    In the table ${ILLNESSES_TABLE} sort by ${NAME} in order ${ASCENDING}"
   ]
  },
  {
   "cell_type": "code",
   "execution_count": null,
   "id": "c9cdea62-f865-4150-94a3-0881e14fb933",
   "metadata": {},
   "outputs": [
    {
     "ename": "",
     "evalue": "",
     "output_type": "error",
     "traceback": [
      "\u001b[1;31mFailed to start the Kernel. \n",
      "\u001b[1;31mView Jupyter <a href='command:jupyter.viewOutput'>log</a> for further details."
     ]
    }
   ],
   "source": []
  }
 ],
 "metadata": {
  "kernelspec": {
   "display_name": "Robot Framework",
   "language": "robotframework",
   "name": "robotkernel"
  },
  "language_info": {
   "name": "robotframework"
  }
 },
 "nbformat": 4,
 "nbformat_minor": 5
}
